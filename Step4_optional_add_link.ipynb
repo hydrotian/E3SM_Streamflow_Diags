{
 "cells": [
  {
   "cell_type": "code",
   "execution_count": 1,
   "id": "b642d616-2115-4e27-a9d4-6194b9e0cc03",
   "metadata": {},
   "outputs": [
    {
     "name": "stdout",
     "output_type": "stream",
     "text": [
      "Viewer HTML file has been created.\n"
     ]
    }
   ],
   "source": [
    "import os\n",
    "\n",
    "# Viewer base name and directories\n",
    "dirname = '2024_Tutorial'\n",
    "comparisons_dir = \"comparisons\"  # Subdirectory for comparisons\n",
    "\n",
    "# Paths for directory and web access\n",
    "diag_root = \"P:\\\\global\\\\cfs\\\\cdirs\\\\e3sm\\\\www\\\\tizhou\\\\\"\n",
    "diag_path = os.path.join(diag_root, dirname)\n",
    "\n",
    "www_root = \"https://portal.nersc.gov/cfs/e3sm/tizhou/\"\n",
    "www_path = www_root + dirname + \"/\"\n",
    "\n",
    "# Output HTML file\n",
    "output_html_file = os.path.join(diag_root, f'{dirname}.viewer.html')\n",
    "\n",
    "# Function to generate HTML links, sorted into sections\n",
    "def generate_links_html(directory, base_url):\n",
    "    general_links_html = \"\"\n",
    "    comparisons_links_html = \"\"\n",
    "    for root, dirs, files in os.walk(directory):\n",
    "        for file in files:\n",
    "            if file.endswith(\".html\"):\n",
    "                file_path = os.path.join(root, file)\n",
    "                # Determine if the file is under the comparisons directory\n",
    "                is_comparison = comparisons_dir in os.path.relpath(root, directory)\n",
    "                # Create a relative path link\n",
    "                relative_path = os.path.relpath(file_path, directory)\n",
    "                url = f\"{base_url}/{relative_path.replace(os.sep, '/')}\"\n",
    "                link_html = f'<li><a href=\"{url}\">{os.path.basename(file)}</a></li>\\n'  # Use basename for link text\n",
    "                # Append to the appropriate section\n",
    "                if is_comparison:\n",
    "                    comparisons_links_html += link_html\n",
    "                else:\n",
    "                    general_links_html += link_html\n",
    "    return general_links_html, comparisons_links_html\n",
    "\n",
    "# Create HTML content with placeholders for different sections\n",
    "html_content = \"\"\"\n",
    "<html>\n",
    "<head>\n",
    "<title>Directory of HTML Files</title>\n",
    "</head>\n",
    "<body>\n",
    "<h1>Maps</h1>\n",
    "<ul>\n",
    "{general_links}\n",
    "</ul>\n",
    "<h2>Comparisons</h2>\n",
    "<ul>\n",
    "{comparisons_links}\n",
    "</ul>\n",
    "</body>\n",
    "</html>\n",
    "\"\"\"\n",
    "\n",
    "# Get HTML links for general and comparisons sections\n",
    "general_links_html, comparisons_links_html = generate_links_html(diag_path, www_path)\n",
    "\n",
    "# Format the HTML content with the generated links\n",
    "formatted_html = html_content.format(general_links=general_links_html, comparisons_links=comparisons_links_html)\n",
    "\n",
    "# Write to the output HTML file\n",
    "with open(output_html_file, 'w') as file:\n",
    "    file.write(formatted_html)\n",
    "\n",
    "print(\"Viewer HTML file has been created.\")\n"
   ]
  },
  {
   "cell_type": "code",
   "execution_count": null,
   "id": "7e21439e-eb55-4019-8cd2-b4e5cbeeac5f",
   "metadata": {},
   "outputs": [],
   "source": []
  }
 ],
 "metadata": {
  "kernelspec": {
   "display_name": "Python 3 (ipykernel)",
   "language": "python",
   "name": "python3"
  },
  "language_info": {
   "codemirror_mode": {
    "name": "ipython",
    "version": 3
   },
   "file_extension": ".py",
   "mimetype": "text/x-python",
   "name": "python",
   "nbconvert_exporter": "python",
   "pygments_lexer": "ipython3",
   "version": "3.11.5"
  }
 },
 "nbformat": 4,
 "nbformat_minor": 5
}
